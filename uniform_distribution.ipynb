{
 "cells": [
  {
   "cell_type": "markdown",
   "id": "hollywood-revelation",
   "metadata": {},
   "source": [
    "# Create a distribution of random dierolls on a d10\n",
    "# Use n = 10, 100, 1000, 10000, and 100000"
   ]
  },
  {
   "cell_type": "code",
   "execution_count": 3,
   "id": "opponent-single",
   "metadata": {},
   "outputs": [],
   "source": [
    "import matplotlib.pyplot as plt\n",
    "import random\n",
    "from collections import Counter"
   ]
  },
  {
   "cell_type": "code",
   "execution_count": null,
   "id": "choice-hostel",
   "metadata": {},
   "outputs": [],
   "source": [
    "values = [train.rating_difference[(train.upset == True)].mean(),train.rating_difference[(train.upset == False)].mean()]\n",
    "    labels = ['Upset','Non-Upset', ]\n",
    "\n",
    "    # generate and display chart\n",
    "    plt.bar(height=values, x=labels, color=['#ffc3a0', '#c0d6e4'])\n",
    "    plt.title('The Mean Difference in Player Rating is Much Smaller in Upsets than in Non-upsets')\n",
    "    plt.tight_layout()\n",
    "    plt.show()"
   ]
  },
  {
   "cell_type": "code",
   "execution_count": 13,
   "id": "functional-cassette",
   "metadata": {},
   "outputs": [
    {
     "data": {
      "image/png": "[encoded data removed]",
      "text/plain": [
       "<Figure size 432x288 with 1 Axes>"
      ]
     },
     "metadata": {
      "needs_background": "light"
     },
     "output_type": "display_data"
    }
   ],
   "source": [
    "x_labels = [r+1 for r in range(10)]\n",
    "\n",
    "n = 10\n",
    "rolls = [random.randint(1,10) for r in range(n)]\n",
    "\n",
    "x_values = [Counter(rolls)[label] for label in x_labels]\n",
    "\n",
    "\n",
    "plt.bar(x_labels, x_values)\n",
    "plt.title(f'Uniform Distribution n = {n}')\n",
    "plt.tight_layout()\n",
    "plt.show()"
   ]
  },
  {
   "cell_type": "code",
   "execution_count": 14,
   "id": "functional-dublin",
   "metadata": {},
   "outputs": [
    {
     "data": {
      "image/png": "[encoded data removed]",
      "text/plain": [
       "<Figure size 432x288 with 1 Axes>"
      ]
     },
     "metadata": {
      "needs_background": "light"
     },
     "output_type": "display_data"
    }
   ],
   "source": [
    "x_labels = [r+1 for r in range(10)]\n",
    "\n",
    "n = 1000\n",
    "rolls = [random.randint(1,10) for r in range(n)]\n",
    "\n",
    "x_values = [Counter(rolls)[label] for label in x_labels]\n",
    "\n",
    "\n",
    "plt.bar(x_labels, x_values)\n",
    "plt.title(f'Uniform Distribution n = {n}')\n",
    "plt.tight_layout()\n",
    "plt.show()"
   ]
  },
  {
   "cell_type": "code",
   "execution_count": null,
   "id": "confident-shopper",
   "metadata": {},
   "outputs": [],
   "source": []
  }
 ],
 "metadata": {
  "kernelspec": {
   "display_name": "Python 3",
   "language": "python",
   "name": "python3"
  },
  "language_info": {
   "codemirror_mode": {
    "name": "ipython",
    "version": 3
   },
   "file_extension": ".py",
   "mimetype": "text/x-python",
   "name": "python",
   "nbconvert_exporter": "python",
   "pygments_lexer": "ipython3",
   "version": "3.7.4"
  }
 },
 "nbformat": 4,
 "nbformat_minor": 5
}
